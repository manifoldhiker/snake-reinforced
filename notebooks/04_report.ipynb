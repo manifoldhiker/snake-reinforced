{
 "cells": [
  {
   "cell_type": "code",
   "execution_count": 1,
   "id": "ce2144d8-23c5-459d-8190-54d81cecd8aa",
   "metadata": {},
   "outputs": [],
   "source": [
    "import sys\n",
    "sys.path.append('/app')"
   ]
  },
  {
   "cell_type": "code",
   "execution_count": 14,
   "id": "9238987e-351d-4026-ba5e-230c7e0e2ed9",
   "metadata": {},
   "outputs": [],
   "source": [
    "from hydra import initialize, compose\n",
    "from hydra.utils import instantiate\n",
    "from IPython.display import Video\n",
    "\n",
    "import matplotlib.pyplot as plt"
   ]
  },
  {
   "cell_type": "code",
   "execution_count": 5,
   "id": "1f5a5f7b-27b0-47e6-8688-656985706c7a",
   "metadata": {},
   "outputs": [
    {
     "name": "stdout",
     "output_type": "stream",
     "text": [
      "pygame 2.1.3.dev1 (SDL 2.0.8, Python 3.7.11)\n",
      "Hello from the pygame community. https://www.pygame.org/contribute.html\n",
      "couldn't import doomish\n",
      "Couldn't import doom\n"
     ]
    }
   ],
   "source": [
    "from snake_reinforced.policy_gradient import PolicyGradientTrainer"
   ]
  },
  {
   "cell_type": "code",
   "execution_count": 4,
   "id": "6f14fe0b-20dc-4be8-b31e-1300c151e242",
   "metadata": {},
   "outputs": [],
   "source": [
    "with initialize(config_path=\"../conf\"):\n",
    "    cfg = compose(config_name='00_actor_critic')"
   ]
  },
  {
   "cell_type": "code",
   "execution_count": 8,
   "id": "d5cdbbe6-c067-4bc1-b75e-2d854c8b94d3",
   "metadata": {},
   "outputs": [],
   "source": [
    "cfg.device = 'cpu'"
   ]
  },
  {
   "cell_type": "code",
   "execution_count": 9,
   "id": "70db5760-1278-4470-bb98-d4686addaab7",
   "metadata": {},
   "outputs": [
    {
     "name": "stdout",
     "output_type": "stream",
     "text": [
      "Setting global seed to 0\n"
     ]
    },
    {
     "name": "stderr",
     "output_type": "stream",
     "text": [
      "ALSA lib confmisc.c:767:(parse_card) cannot find card '0'\n",
      "ALSA lib conf.c:4528:(_snd_config_evaluate) function snd_func_card_driver returned error: No such file or directory\n",
      "ALSA lib confmisc.c:392:(snd_func_concat) error evaluating strings\n",
      "ALSA lib conf.c:4528:(_snd_config_evaluate) function snd_func_concat returned error: No such file or directory\n",
      "ALSA lib confmisc.c:1246:(snd_func_refer) error evaluating name\n",
      "ALSA lib conf.c:4528:(_snd_config_evaluate) function snd_func_refer returned error: No such file or directory\n",
      "ALSA lib conf.c:5007:(snd_config_expand) Evaluate error: No such file or directory\n",
      "ALSA lib pcm.c:2495:(snd_pcm_open_noupdate) Unknown PCM default\n",
      "ALSA lib confmisc.c:767:(parse_card) cannot find card '0'\n",
      "ALSA lib conf.c:4528:(_snd_config_evaluate) function snd_func_card_driver returned error: No such file or directory\n",
      "ALSA lib confmisc.c:392:(snd_func_concat) error evaluating strings\n",
      "ALSA lib conf.c:4528:(_snd_config_evaluate) function snd_func_concat returned error: No such file or directory\n",
      "ALSA lib confmisc.c:1246:(snd_func_refer) error evaluating name\n",
      "ALSA lib conf.c:4528:(_snd_config_evaluate) function snd_func_refer returned error: No such file or directory\n",
      "ALSA lib conf.c:5007:(snd_config_expand) Evaluate error: No such file or directory\n",
      "ALSA lib pcm.c:2495:(snd_pcm_open_noupdate) Unknown PCM default\n"
     ]
    }
   ],
   "source": [
    "trainer = PolicyGradientTrainer(cfg, use_wandb=False)"
   ]
  },
  {
   "cell_type": "code",
   "execution_count": 12,
   "id": "e891e916-f7d1-4305-9327-4a01e406330b",
   "metadata": {},
   "outputs": [],
   "source": [
    "ple_env = trainer.ple_env"
   ]
  },
  {
   "cell_type": "code",
   "execution_count": 16,
   "id": "497e0af6-01a6-4c6d-951f-587904ffa7a8",
   "metadata": {},
   "outputs": [],
   "source": []
  },
  {
   "cell_type": "code",
   "execution_count": 21,
   "id": "6f24ad3e-110e-41e4-a681-15c83be38b29",
   "metadata": {},
   "outputs": [
    {
     "name": "stdout",
     "output_type": "stream",
     "text": [
      "(64, 64, 3)\n"
     ]
    },
    {
     "data": {
      "text/plain": [
       "<matplotlib.image.AxesImage at 0x7f2843963710>"
      ]
     },
     "execution_count": 21,
     "metadata": {},
     "output_type": "execute_result"
    },
    {
     "data": {
      "image/png": "[encoded data removed]",
      "text/plain": [
       "<Figure size 432x288 with 1 Axes>"
      ]
     },
     "metadata": {
      "needs_background": "light"
     },
     "output_type": "display_data"
    }
   ],
   "source": [
    "ple_env.reset_game()\n",
    "ple_env.act(1)\n",
    "observation = ple_env.getScreenRGB()\n",
    "print(observation.shape)\n",
    "plt.imshow(observation)"
   ]
  },
  {
   "cell_type": "code",
   "execution_count": 23,
   "id": "9d63a320-d40d-4687-b5ab-54060382ee74",
   "metadata": {},
   "outputs": [
    {
     "data": {
      "text/plain": [
       "{'snake_head_x': 32.96666666666667,\n",
       " 'snake_head_y': 32.0,\n",
       " 'food_x': 30,\n",
       " 'food_y': 18,\n",
       " 'snake_body': [0.0, 1.2666666666666657, 4.266666666666666, 6.966666666666665],\n",
       " 'snake_body_pos': [[32.96666666666667, 32.0],\n",
       "  [31.700000000000003, 32.0],\n",
       "  [28.700000000000003, 32.0],\n",
       "  [26.000000000000004, 32.0]]}"
      ]
     },
     "execution_count": 23,
     "metadata": {},
     "output_type": "execute_result"
    }
   ],
   "source": [
    "ple_env.getGameState()"
   ]
  },
  {
   "cell_type": "code",
   "execution_count": 22,
   "id": "d7582924-acff-4962-8d5b-a43bc76a6f8d",
   "metadata": {},
   "outputs": [
    {
     "data": {
      "text/plain": [
       "[119, 97, 100, 115, None]"
      ]
     },
     "execution_count": 22,
     "metadata": {},
     "output_type": "execute_result"
    }
   ],
   "source": [
    "ple_env.getActionSet()"
   ]
  },
  {
   "cell_type": "code",
   "execution_count": null,
   "id": "f14c66ea-cefa-43f0-b6b1-df03512e3ac9",
   "metadata": {},
   "outputs": [],
   "source": [
    "from pygame.constants import K_w, K_a, K_s, K_d\n",
    "\n",
    "ACTION2PLE_CODE = {\n",
    "    \"up\": K_w,\n",
    "    \"left\": K_a,\n",
    "    \"right\": K_d,\n",
    "    \"down\": K_s\n",
    "}"
   ]
  },
  {
   "cell_type": "code",
   "execution_count": null,
   "id": "e2f1e835-2cc9-40bc-a766-77a792e0018a",
   "metadata": {},
   "outputs": [],
   "source": []
  },
  {
   "cell_type": "code",
   "execution_count": null,
   "id": "c66f2249-495a-4c3c-a39f-ae84f2e89022",
   "metadata": {},
   "outputs": [],
   "source": []
  }
 ],
 "metadata": {
  "kernelspec": {
   "display_name": "Python 3 (ipykernel)",
   "language": "python",
   "name": "python3"
  },
  "language_info": {
   "codemirror_mode": {
    "name": "ipython",
    "version": 3
   },
   "file_extension": ".py",
   "mimetype": "text/x-python",
   "name": "python",
   "nbconvert_exporter": "python",
   "pygments_lexer": "ipython3",
   "version": "3.7.11"
  }
 },
 "nbformat": 4,
 "nbformat_minor": 5
}
