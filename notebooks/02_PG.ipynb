{
 "cells": [
  {
   "cell_type": "code",
   "execution_count": 1,
   "id": "dd60f8fa-fd7e-43ba-9724-5a8a35035b83",
   "metadata": {},
   "outputs": [
    {
     "name": "stdout",
     "output_type": "stream",
     "text": [
      "Tue Dec 21 22:04:47 2021       \n",
      "+-----------------------------------------------------------------------------+\n",
      "| NVIDIA-SMI 470.57.02    Driver Version: 470.57.02    CUDA Version: 11.4     |\n",
      "|-------------------------------+----------------------+----------------------+\n",
      "| GPU  Name        Persistence-M| Bus-Id        Disp.A | Volatile Uncorr. ECC |\n",
      "| Fan  Temp  Perf  Pwr:Usage/Cap|         Memory-Usage | GPU-Util  Compute M. |\n",
      "|                               |                      |               MIG M. |\n",
      "|===============================+======================+======================|\n",
      "|   0  Tesla V100-SXM2...  On   | 00000000:00:1B.0 Off |                    0 |\n",
      "| N/A   44C    P0    52W / 300W |  14464MiB / 16160MiB |      0%      Default |\n",
      "|                               |                      |                  N/A |\n",
      "+-------------------------------+----------------------+----------------------+\n",
      "|   1  Tesla V100-SXM2...  On   | 00000000:00:1C.0 Off |                    0 |\n",
      "| N/A   45C    P0    37W / 300W |      3MiB / 16160MiB |      0%      Default |\n",
      "|                               |                      |                  N/A |\n",
      "+-------------------------------+----------------------+----------------------+\n",
      "|   2  Tesla V100-SXM2...  On   | 00000000:00:1D.0 Off |                    0 |\n",
      "| N/A   48C    P0    44W / 300W |      3MiB / 16160MiB |      0%      Default |\n",
      "|                               |                      |                  N/A |\n",
      "+-------------------------------+----------------------+----------------------+\n",
      "|   3  Tesla V100-SXM2...  On   | 00000000:00:1E.0 Off |                    0 |\n",
      "| N/A   43C    P0    39W / 300W |      3MiB / 16160MiB |      0%      Default |\n",
      "|                               |                      |                  N/A |\n",
      "+-------------------------------+----------------------+----------------------+\n",
      "                                                                               \n",
      "+-----------------------------------------------------------------------------+\n",
      "| Processes:                                                                  |\n",
      "|  GPU   GI   CI        PID   Type   Process name                  GPU Memory |\n",
      "|        ID   ID                                                   Usage      |\n",
      "|=============================================================================|\n",
      "+-----------------------------------------------------------------------------+\n"
     ]
    }
   ],
   "source": [
    "! nvidia-smi"
   ]
  },
  {
   "cell_type": "code",
   "execution_count": 2,
   "id": "158c98dd-2f19-4529-a312-00b40312911f",
   "metadata": {},
   "outputs": [],
   "source": [
    "%load_ext autoreload\n",
    "%autoreload 2"
   ]
  },
  {
   "cell_type": "code",
   "execution_count": 3,
   "id": "3c00ca56-1aed-4857-8788-9384241708f3",
   "metadata": {},
   "outputs": [],
   "source": [
    "import sys\n",
    "sys.path.append('/app')"
   ]
  },
  {
   "cell_type": "code",
   "execution_count": 4,
   "id": "84150855-6fec-42e1-8560-f294a25cad3e",
   "metadata": {},
   "outputs": [],
   "source": [
    "from hydra import initialize, compose\n",
    "from hydra.utils import instantiate\n",
    "from IPython.display import Video\n",
    "\n",
    "\n",
    "with initialize(config_path=\"../conf\"):\n",
    "    cfg = compose(config_name='00_actor_critic')"
   ]
  },
  {
   "cell_type": "code",
   "execution_count": 5,
   "id": "014ce134-7e42-48fe-8107-85fc0512af29",
   "metadata": {},
   "outputs": [
    {
     "name": "stdout",
     "output_type": "stream",
     "text": [
      "pygame 2.1.1.dev1 (SDL 2.0.8, Python 3.7.11)\n",
      "Hello from the pygame community. https://www.pygame.org/contribute.html\n",
      "couldn't import doomish\n",
      "Couldn't import doom\n"
     ]
    }
   ],
   "source": [
    "from snake_reinforced.policy_gradient import PolicyGradientTrainer"
   ]
  },
  {
   "cell_type": "code",
   "execution_count": 6,
   "id": "aa01735b-cd8d-4b23-8d78-64c55d919cc0",
   "metadata": {},
   "outputs": [],
   "source": [
    "cfg.net._target_ = 'snake_reinforced.nn.actor_critic.ActorCriticConvNet'\n",
    "cfg.logging.run_name = \"pg_cnn_03_truncate_episodes\"\n",
    "\n",
    "cfg.loss.value_weight = 0.5\n",
    "cfg.loss.entropy_weight = -2\n",
    "\n",
    "cfg.device='cuda:2'"
   ]
  },
  {
   "cell_type": "code",
   "execution_count": 7,
   "id": "e07e2300-a2a0-437e-bd45-8d78e71e3d9c",
   "metadata": {},
   "outputs": [
    {
     "name": "stdout",
     "output_type": "stream",
     "text": [
      "Setting global seed to 0\n"
     ]
    },
    {
     "name": "stderr",
     "output_type": "stream",
     "text": [
      "ALSA lib confmisc.c:767:(parse_card) cannot find card '0'\n",
      "ALSA lib conf.c:4528:(_snd_config_evaluate) function snd_func_card_driver returned error: No such file or directory\n",
      "ALSA lib confmisc.c:392:(snd_func_concat) error evaluating strings\n",
      "ALSA lib conf.c:4528:(_snd_config_evaluate) function snd_func_concat returned error: No such file or directory\n",
      "ALSA lib confmisc.c:1246:(snd_func_refer) error evaluating name\n",
      "ALSA lib conf.c:4528:(_snd_config_evaluate) function snd_func_refer returned error: No such file or directory\n",
      "ALSA lib conf.c:5007:(snd_config_expand) Evaluate error: No such file or directory\n",
      "ALSA lib pcm.c:2495:(snd_pcm_open_noupdate) Unknown PCM default\n",
      "ALSA lib confmisc.c:767:(parse_card) cannot find card '0'\n",
      "ALSA lib conf.c:4528:(_snd_config_evaluate) function snd_func_card_driver returned error: No such file or directory\n",
      "ALSA lib confmisc.c:392:(snd_func_concat) error evaluating strings\n",
      "ALSA lib conf.c:4528:(_snd_config_evaluate) function snd_func_concat returned error: No such file or directory\n",
      "ALSA lib confmisc.c:1246:(snd_func_refer) error evaluating name\n",
      "ALSA lib conf.c:4528:(_snd_config_evaluate) function snd_func_refer returned error: No such file or directory\n",
      "ALSA lib conf.c:5007:(snd_config_expand) Evaluate error: No such file or directory\n",
      "ALSA lib pcm.c:2495:(snd_pcm_open_noupdate) Unknown PCM default\n"
     ]
    }
   ],
   "source": [
    "# cfg.training.batch_size = 8\n",
    "# cfg.logging.log_video_every_n_epoch = 10\n",
    "\n",
    "trainer = PolicyGradientTrainer(cfg, use_wandb=True)"
   ]
  },
  {
   "cell_type": "code",
   "execution_count": 8,
   "id": "7800382d-7dd9-439d-82bc-c4df15f8f9cc",
   "metadata": {},
   "outputs": [],
   "source": [
    "checkpoint_path = './checkpoints/pg_cnn_01_grad_clip/snake__epoch_after_crash.pytorch'\n",
    "import torch\n",
    "state_dict = torch.load(checkpoint_path)"
   ]
  },
  {
   "cell_type": "code",
   "execution_count": 9,
   "id": "a947f41d-bd07-4eab-9297-77b4d015060c",
   "metadata": {},
   "outputs": [
    {
     "data": {
      "text/plain": [
       "<All keys matched successfully>"
      ]
     },
     "execution_count": 9,
     "metadata": {},
     "output_type": "execute_result"
    }
   ],
   "source": [
    "trainer.agent.load_state_dict(state_dict)"
   ]
  },
  {
   "cell_type": "code",
   "execution_count": 10,
   "id": "9ee5e1fd-927a-4056-a218-a091afb77c69",
   "metadata": {},
   "outputs": [
    {
     "data": {
      "text/plain": [
       "32000"
      ]
     },
     "execution_count": 10,
     "metadata": {},
     "output_type": "execute_result"
    }
   ],
   "source": [
    "cfg.training.sampling_frame_limit"
   ]
  },
  {
   "cell_type": "code",
   "execution_count": null,
   "id": "cdc7093d-611e-4c33-b34b-5cc46cf604c0",
   "metadata": {},
   "outputs": [
    {
     "name": "stdout",
     "output_type": "stream",
     "text": [
      "Setting global seed to 0\n"
     ]
    },
    {
     "name": "stderr",
     "output_type": "stream",
     "text": [
      "\u001b[34m\u001b[1mwandb\u001b[0m: Currently logged in as: \u001b[33mkilianovski\u001b[0m (use `wandb login --relogin` to force relogin)\n"
     ]
    },
    {
     "data": {
      "text/html": [
       "\n",
       "                    Syncing run <strong><a href=\"https://wandb.ai/kilianovski/snake_reinforced/runs/31z6geom\" target=\"_blank\">pg_cnn_02_grad_clip</a></strong> to <a href=\"https://wandb.ai/kilianovski/snake_reinforced\" target=\"_blank\">Weights & Biases</a> (<a href=\"https://docs.wandb.com/integrations/jupyter.html\" target=\"_blank\">docs</a>).<br/>\n",
       "\n",
       "                "
      ],
      "text/plain": [
       "<IPython.core.display.HTML object>"
      ]
     },
     "metadata": {},
     "output_type": "display_data"
    },
    {
     "name": "stdout",
     "output_type": "stream",
     "text": [
      "Started sampling episodes\n",
      "Started sampling episodes\n"
     ]
    }
   ],
   "source": [
    "trainer.train()"
   ]
  },
  {
   "cell_type": "code",
   "execution_count": null,
   "id": "12fa65b2-ddfd-4cc9-a99a-146a298fde52",
   "metadata": {},
   "outputs": [],
   "source": [
    "from snake_reinforced.game import ACTION2ID, play_game\n",
    "from snake_reinforced.vis import save_snake_video"
   ]
  },
  {
   "cell_type": "code",
   "execution_count": null,
   "id": "4e436fdd-19b9-4b73-8ebc-13a8a8d75a70",
   "metadata": {},
   "outputs": [],
   "source": [
    "filename = './videos/t.mp4'"
   ]
  },
  {
   "cell_type": "code",
   "execution_count": null,
   "id": "e91c70e6-bca7-4e28-b3d4-794a76581662",
   "metadata": {},
   "outputs": [],
   "source": [
    "save_snake_video(trainer.ple_env, trainer.agent, filename, n_last_frames=0)"
   ]
  },
  {
   "cell_type": "code",
   "execution_count": null,
   "id": "9bfa242c-b9c4-4b51-8e88-5fe68d686bd3",
   "metadata": {},
   "outputs": [],
   "source": [
    "from IPython.display import Video\n",
    "\n",
    "Video(filename)"
   ]
  },
  {
   "cell_type": "code",
   "execution_count": null,
   "id": "4e3517bf-f34b-4922-a503-955b30a1300e",
   "metadata": {},
   "outputs": [],
   "source": []
  },
  {
   "cell_type": "code",
   "execution_count": null,
   "id": "108995d7-0e5c-43ac-af05-28fb6b4160fd",
   "metadata": {},
   "outputs": [],
   "source": [
    "frames = play_game"
   ]
  },
  {
   "cell_type": "code",
   "execution_count": null,
   "id": "aed30ea2-e525-492a-b90a-bb1f41a5ca8b",
   "metadata": {},
   "outputs": [],
   "source": []
  },
  {
   "cell_type": "code",
   "execution_count": null,
   "id": "3ba24cee-6844-43ae-920e-2f417274014c",
   "metadata": {},
   "outputs": [],
   "source": [
    "trainer.save_agent('after_crash')"
   ]
  },
  {
   "cell_type": "code",
   "execution_count": null,
   "id": "9ec7f4f8-1597-456b-ac57-8cafd131762a",
   "metadata": {},
   "outputs": [],
   "source": [
    "from torch.nn.functional import one_hot, log_softmax, softmax, normalize\n",
    "import pandas as pd\n",
    "import numpy as np\n",
    "import torch\n",
    "import wandb\n",
    "from hydra.utils import instantiate\n",
    "\n",
    "from snake_reinforced.game import init_ple_env, ACTION2PLE_CODE, get_snake_len\n",
    "from snake_reinforced.agents import to_action_name\n",
    "from snake_reinforced.vis import save_snake_video\n",
    "from snake_reinforced.infrastructure import seed_all, save_state_dict\n",
    "from snake_reinforced.utilities.grad import grad_norm"
   ]
  },
  {
   "cell_type": "code",
   "execution_count": null,
   "id": "67c6dd7f-10d5-4957-85da-2f7ac92e7bc9",
   "metadata": {},
   "outputs": [],
   "source": [
    "from snake_reinforced.utilities.grad import main_params\n",
    "from snake_reinforced.policy_gradient import play_episode"
   ]
  },
  {
   "cell_type": "code",
   "execution_count": null,
   "id": "b28ba35a-cdd7-416b-a61f-a70e02b7e9cd",
   "metadata": {},
   "outputs": [],
   "source": [
    "self = trainer\n",
    "optimizer = instantiate(self.cfg.optimizer, self.agent.parameters())"
   ]
  },
  {
   "cell_type": "code",
   "execution_count": null,
   "id": "3d618c01-316b-491b-8aac-d041b4aba30f",
   "metadata": {},
   "outputs": [],
   "source": [
    "episodes  = [play_episode(self.ple_env, self.agent, self.cfg)]\n",
    "\n",
    "episodes = pd.DataFrame(episodes)\n",
    "\n",
    "epoch_logits = torch.cat(\n",
    "    episodes['episode_logits'].values.tolist())\n",
    "epoch_weighted_log_probs = torch.cat(\n",
    "    episodes['sum_weighted_log_probs'].values.tolist())\n",
    "epoch_advantages = torch.cat(\n",
    "    episodes['discounted_rewards_to_go'].values.tolist())\n",
    "\n",
    "loss = self.train_epoch_step(\n",
    "    epoch_logits, epoch_weighted_log_probs, epoch_advantages, 0)"
   ]
  },
  {
   "cell_type": "code",
   "execution_count": null,
   "id": "3deaf9ad-a38a-4641-b782-36f7be2c6f0d",
   "metadata": {},
   "outputs": [],
   "source": [
    "loss.backward()"
   ]
  },
  {
   "cell_type": "code",
   "execution_count": null,
   "id": "a0f2c4bd-5e46-4188-a687-28e7aedbe273",
   "metadata": {},
   "outputs": [],
   "source": [
    "\n",
    "params = list(params)"
   ]
  },
  {
   "cell_type": "code",
   "execution_count": null,
   "id": "0938e708-ec5c-4440-a5b0-cd531fced8d9",
   "metadata": {},
   "outputs": [],
   "source": [
    "len(params)"
   ]
  },
  {
   "cell_type": "code",
   "execution_count": null,
   "id": "dd5b6844-ee9f-4a0e-8d48-12e309324402",
   "metadata": {},
   "outputs": [],
   "source": [
    "new_params = "
   ]
  },
  {
   "cell_type": "code",
   "execution_count": null,
   "id": "5dfc3664-1834-408b-a5c1-d9f9563a42fc",
   "metadata": {},
   "outputs": [],
   "source": [
    "new_params"
   ]
  },
  {
   "cell_type": "code",
   "execution_count": null,
   "id": "2aca8b8b-303f-47a4-8d92-125b6bd75905",
   "metadata": {},
   "outputs": [],
   "source": [
    "torch.nn.utils.clip_grad_norm_?"
   ]
  },
  {
   "cell_type": "code",
   "execution_count": null,
   "id": "0856de4d-5538-4586-8fde-4e2b7c4a60d7",
   "metadata": {},
   "outputs": [],
   "source": [
    "params[0].grad"
   ]
  },
  {
   "cell_type": "code",
   "execution_count": null,
   "id": "fe09d2ea-67ae-4ec0-b71e-c012e64dadcd",
   "metadata": {},
   "outputs": [],
   "source": []
  },
  {
   "cell_type": "code",
   "execution_count": null,
   "id": "28fc41cd-dda8-4bb3-9f75-3acbea821ea7",
   "metadata": {},
   "outputs": [],
   "source": []
  },
  {
   "cell_type": "code",
   "execution_count": null,
   "id": "901718b4-0eb0-4878-8ef9-2ac3b7f9e011",
   "metadata": {},
   "outputs": [],
   "source": [
    "p = list(self.agent.actor_critic_net.parameters())\n",
    "p[0].grad"
   ]
  },
  {
   "cell_type": "code",
   "execution_count": null,
   "id": "1ccab93a-a08c-4ea0-8789-6b05453a7ded",
   "metadata": {},
   "outputs": [],
   "source": []
  },
  {
   "cell_type": "code",
   "execution_count": null,
   "id": "7619ddf2-c618-40a6-be47-82c70733c8c6",
   "metadata": {},
   "outputs": [],
   "source": []
  },
  {
   "cell_type": "code",
   "execution_count": null,
   "id": "59cb58de-3820-4a44-89e7-30f59d07c9c6",
   "metadata": {},
   "outputs": [],
   "source": []
  },
  {
   "cell_type": "code",
   "execution_count": null,
   "id": "910cc193-90f3-455a-b4fa-9f4dd4a80f4c",
   "metadata": {},
   "outputs": [],
   "source": []
  },
  {
   "cell_type": "code",
   "execution_count": null,
   "id": "ece37cd5-3287-48d1-bdc3-d07ad1ac35c6",
   "metadata": {},
   "outputs": [],
   "source": [
    "self = trainer.agent.actor_critic_net\n",
    "self = self.cpu()\n",
    "import torch"
   ]
  },
  {
   "cell_type": "code",
   "execution_count": null,
   "id": "87fb7b7f-7ca1-4209-bf7a-2e330442fb3b",
   "metadata": {},
   "outputs": [],
   "source": [
    "# self(x)"
   ]
  },
  {
   "cell_type": "code",
   "execution_count": null,
   "id": "e60334b3-85ec-43af-a183-3cf481ef325a",
   "metadata": {},
   "outputs": [],
   "source": [
    "import numpy as np\n",
    "import torch\n",
    "from torch import nn\n",
    "import torch.nn.functional as F"
   ]
  },
  {
   "cell_type": "code",
   "execution_count": null,
   "id": "db7f3acd-8eea-485e-b3b6-c1b6e686f360",
   "metadata": {},
   "outputs": [],
   "source": [
    "self.ln1 = nn.LayerNorm((8))"
   ]
  },
  {
   "cell_type": "code",
   "execution_count": null,
   "id": "8873b1a0-80cf-4a5c-ab9a-7954345b4ca0",
   "metadata": {},
   "outputs": [],
   "source": [
    "x = torch.rand(1, 1, 64, 64)\n",
    "\n",
    "x = self.conv1(x)\n",
    "x = self.ln1(x)\n",
    "x = F.relu(x)\n",
    "x = F.max_pool2d(x, 2)\n",
    "\n",
    "print(x.shape)\n",
    "\n",
    "x = self.conv2(x)\n",
    "print(x.shape)\n",
    "\n",
    "x = F.relu(x)\n",
    "\n",
    "x = F.max_pool2d(x, 2)\n",
    "\n",
    "print(x.shape)\n",
    "x = self.dropout1(x)\n",
    "x = torch.flatten(x, 1)\n",
    "print(x.shape)\n"
   ]
  },
  {
   "cell_type": "code",
   "execution_count": null,
   "id": "daf2ea74-bf67-4d4a-a32e-083c44d6cd31",
   "metadata": {},
   "outputs": [],
   "source": []
  },
  {
   "cell_type": "code",
   "execution_count": null,
   "id": "2c0b5df4-2a4b-424e-80ce-9fdbb46c316d",
   "metadata": {},
   "outputs": [],
   "source": [
    "from torch import nn\n",
    "nn.Conv2d?"
   ]
  },
  {
   "cell_type": "code",
   "execution_count": null,
   "id": "747f0292-a56c-47a0-9446-aaad049a1a59",
   "metadata": {},
   "outputs": [],
   "source": [
    "123"
   ]
  },
  {
   "cell_type": "code",
   "execution_count": null,
   "id": "980619df-36d9-46ce-a326-ffd217df6c6e",
   "metadata": {},
   "outputs": [],
   "source": []
  }
 ],
 "metadata": {
  "kernelspec": {
   "display_name": "Python 3 (ipykernel)",
   "language": "python",
   "name": "python3"
  },
  "language_info": {
   "codemirror_mode": {
    "name": "ipython",
    "version": 3
   },
   "file_extension": ".py",
   "mimetype": "text/x-python",
   "name": "python",
   "nbconvert_exporter": "python",
   "pygments_lexer": "ipython3",
   "version": "3.7.11"
  }
 },
 "nbformat": 4,
 "nbformat_minor": 5
}
