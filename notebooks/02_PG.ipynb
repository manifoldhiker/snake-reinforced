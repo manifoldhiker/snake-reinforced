{
 "cells": [
  {
   "cell_type": "code",
   "execution_count": 1,
   "id": "158c98dd-2f19-4529-a312-00b40312911f",
   "metadata": {},
   "outputs": [],
   "source": [
    "%load_ext autoreload\n",
    "%autoreload 2"
   ]
  },
  {
   "cell_type": "code",
   "execution_count": 2,
   "id": "3c00ca56-1aed-4857-8788-9384241708f3",
   "metadata": {},
   "outputs": [],
   "source": [
    "import sys\n",
    "sys.path.append('/app')"
   ]
  },
  {
   "cell_type": "code",
   "execution_count": 3,
   "id": "84150855-6fec-42e1-8560-f294a25cad3e",
   "metadata": {},
   "outputs": [],
   "source": [
    "from hydra import initialize, compose\n",
    "from hydra.utils import instantiate\n",
    "from IPython.display import Video\n",
    "\n",
    "\n",
    "with initialize(config_path=\"../conf\"):\n",
    "    cfg = compose(config_name='00_actor_critic')"
   ]
  },
  {
   "cell_type": "code",
   "execution_count": 4,
   "id": "014ce134-7e42-48fe-8107-85fc0512af29",
   "metadata": {},
   "outputs": [
    {
     "name": "stdout",
     "output_type": "stream",
     "text": [
      "pygame 2.1.1.dev1 (SDL 2.0.8, Python 3.7.11)\n",
      "Hello from the pygame community. https://www.pygame.org/contribute.html\n",
      "couldn't import doomish\n",
      "Couldn't import doom\n"
     ]
    }
   ],
   "source": [
    "from snake_reinforced.policy_gradient import PolicyGradientTrainer"
   ]
  },
  {
   "cell_type": "code",
   "execution_count": 5,
   "id": "aa01735b-cd8d-4b23-8d78-64c55d919cc0",
   "metadata": {},
   "outputs": [],
   "source": [
    "cfg.net._target_ = 'snake_reinforced.nn.actor_critic.ActorCriticConvNet'\n",
    "cfg.logging.run_name = \"pg_cnn_00\"\n",
    "\n",
    "cfg.loss.value_weight = 0.5\n",
    "cfg.loss.entropy_weight = -2\n",
    "\n",
    "cfg.device='cuda:2'"
   ]
  },
  {
   "cell_type": "code",
   "execution_count": 6,
   "id": "e07e2300-a2a0-437e-bd45-8d78e71e3d9c",
   "metadata": {},
   "outputs": [
    {
     "name": "stdout",
     "output_type": "stream",
     "text": [
      "Setting global seed to 0\n"
     ]
    },
    {
     "name": "stderr",
     "output_type": "stream",
     "text": [
      "ALSA lib confmisc.c:767:(parse_card) cannot find card '0'\n",
      "ALSA lib conf.c:4528:(_snd_config_evaluate) function snd_func_card_driver returned error: No such file or directory\n",
      "ALSA lib confmisc.c:392:(snd_func_concat) error evaluating strings\n",
      "ALSA lib conf.c:4528:(_snd_config_evaluate) function snd_func_concat returned error: No such file or directory\n",
      "ALSA lib confmisc.c:1246:(snd_func_refer) error evaluating name\n",
      "ALSA lib conf.c:4528:(_snd_config_evaluate) function snd_func_refer returned error: No such file or directory\n",
      "ALSA lib conf.c:5007:(snd_config_expand) Evaluate error: No such file or directory\n",
      "ALSA lib pcm.c:2495:(snd_pcm_open_noupdate) Unknown PCM default\n",
      "ALSA lib confmisc.c:767:(parse_card) cannot find card '0'\n",
      "ALSA lib conf.c:4528:(_snd_config_evaluate) function snd_func_card_driver returned error: No such file or directory\n",
      "ALSA lib confmisc.c:392:(snd_func_concat) error evaluating strings\n",
      "ALSA lib conf.c:4528:(_snd_config_evaluate) function snd_func_concat returned error: No such file or directory\n",
      "ALSA lib confmisc.c:1246:(snd_func_refer) error evaluating name\n",
      "ALSA lib conf.c:4528:(_snd_config_evaluate) function snd_func_refer returned error: No such file or directory\n",
      "ALSA lib conf.c:5007:(snd_config_expand) Evaluate error: No such file or directory\n",
      "ALSA lib pcm.c:2495:(snd_pcm_open_noupdate) Unknown PCM default\n"
     ]
    }
   ],
   "source": [
    "# cfg.training.batch_size = 8\n",
    "# cfg.logging.log_video_every_n_epoch = 10\n",
    "\n",
    "trainer = PolicyGradientTrainer(cfg, use_wandb=True)"
   ]
  },
  {
   "cell_type": "code",
   "execution_count": 7,
   "id": "6b9415b6-713c-4528-90ce-98b31916e133",
   "metadata": {},
   "outputs": [
    {
     "data": {
      "text/plain": [
       "{'_target_': 'snake_reinforced.nn.actor_critic.ActorCriticAgent', 'actor_critic_net': '${net}', 'device': '${device}'}"
      ]
     },
     "execution_count": 7,
     "metadata": {},
     "output_type": "execute_result"
    }
   ],
   "source": [
    "cfg.agent"
   ]
  },
  {
   "cell_type": "code",
   "execution_count": null,
   "id": "7619ddf2-c618-40a6-be47-82c70733c8c6",
   "metadata": {},
   "outputs": [
    {
     "name": "stdout",
     "output_type": "stream",
     "text": [
      "Setting global seed to 0\n"
     ]
    },
    {
     "name": "stderr",
     "output_type": "stream",
     "text": [
      "\u001b[34m\u001b[1mwandb\u001b[0m: Currently logged in as: \u001b[33mkilianovski\u001b[0m (use `wandb login --relogin` to force relogin)\n"
     ]
    },
    {
     "data": {
      "text/html": [
       "\n",
       "                    Syncing run <strong><a href=\"https://wandb.ai/kilianovski/snake_reinforced/runs/i2wk8b2j\" target=\"_blank\">pg_cnn_00</a></strong> to <a href=\"https://wandb.ai/kilianovski/snake_reinforced\" target=\"_blank\">Weights & Biases</a> (<a href=\"https://docs.wandb.com/integrations/jupyter.html\" target=\"_blank\">docs</a>).<br/>\n",
       "\n",
       "                "
      ],
      "text/plain": [
       "<IPython.core.display.HTML object>"
      ]
     },
     "metadata": {},
     "output_type": "display_data"
    }
   ],
   "source": [
    "trainer.train()"
   ]
  },
  {
   "cell_type": "code",
   "execution_count": null,
   "id": "59cb58de-3820-4a44-89e7-30f59d07c9c6",
   "metadata": {},
   "outputs": [],
   "source": []
  },
  {
   "cell_type": "code",
   "execution_count": null,
   "id": "910cc193-90f3-455a-b4fa-9f4dd4a80f4c",
   "metadata": {},
   "outputs": [],
   "source": []
  },
  {
   "cell_type": "code",
   "execution_count": null,
   "id": "ece37cd5-3287-48d1-bdc3-d07ad1ac35c6",
   "metadata": {},
   "outputs": [],
   "source": [
    "self = trainer.agent.actor_critic_net\n",
    "self = self.cpu()\n",
    "import torch"
   ]
  },
  {
   "cell_type": "code",
   "execution_count": null,
   "id": "87fb7b7f-7ca1-4209-bf7a-2e330442fb3b",
   "metadata": {},
   "outputs": [],
   "source": [
    "# self(x)"
   ]
  },
  {
   "cell_type": "code",
   "execution_count": null,
   "id": "e60334b3-85ec-43af-a183-3cf481ef325a",
   "metadata": {},
   "outputs": [],
   "source": [
    "import numpy as np\n",
    "import torch\n",
    "from torch import nn\n",
    "import torch.nn.functional as F"
   ]
  },
  {
   "cell_type": "code",
   "execution_count": null,
   "id": "db7f3acd-8eea-485e-b3b6-c1b6e686f360",
   "metadata": {},
   "outputs": [],
   "source": [
    "self.ln1 = nn.LayerNorm((8))"
   ]
  },
  {
   "cell_type": "code",
   "execution_count": null,
   "id": "8873b1a0-80cf-4a5c-ab9a-7954345b4ca0",
   "metadata": {},
   "outputs": [],
   "source": [
    "x = torch.rand(1, 1, 64, 64)\n",
    "\n",
    "x = self.conv1(x)\n",
    "x = self.ln1(x)\n",
    "x = F.relu(x)\n",
    "x = F.max_pool2d(x, 2)\n",
    "\n",
    "print(x.shape)\n",
    "\n",
    "x = self.conv2(x)\n",
    "print(x.shape)\n",
    "\n",
    "x = F.relu(x)\n",
    "\n",
    "x = F.max_pool2d(x, 2)\n",
    "\n",
    "print(x.shape)\n",
    "x = self.dropout1(x)\n",
    "x = torch.flatten(x, 1)\n",
    "print(x.shape)\n"
   ]
  },
  {
   "cell_type": "code",
   "execution_count": null,
   "id": "daf2ea74-bf67-4d4a-a32e-083c44d6cd31",
   "metadata": {},
   "outputs": [],
   "source": []
  },
  {
   "cell_type": "code",
   "execution_count": null,
   "id": "2c0b5df4-2a4b-424e-80ce-9fdbb46c316d",
   "metadata": {},
   "outputs": [],
   "source": [
    "from torch import nn\n",
    "nn.Conv2d?"
   ]
  },
  {
   "cell_type": "code",
   "execution_count": null,
   "id": "747f0292-a56c-47a0-9446-aaad049a1a59",
   "metadata": {},
   "outputs": [],
   "source": [
    "123"
   ]
  },
  {
   "cell_type": "code",
   "execution_count": null,
   "id": "980619df-36d9-46ce-a326-ffd217df6c6e",
   "metadata": {},
   "outputs": [],
   "source": []
  }
 ],
 "metadata": {
  "kernelspec": {
   "display_name": "Python 3 (ipykernel)",
   "language": "python",
   "name": "python3"
  },
  "language_info": {
   "codemirror_mode": {
    "name": "ipython",
    "version": 3
   },
   "file_extension": ".py",
   "mimetype": "text/x-python",
   "name": "python",
   "nbconvert_exporter": "python",
   "pygments_lexer": "ipython3",
   "version": "3.7.11"
  }
 },
 "nbformat": 4,
 "nbformat_minor": 5
}
